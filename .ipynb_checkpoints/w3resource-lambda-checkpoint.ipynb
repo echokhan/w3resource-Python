{
 "cells": [
  {
   "cell_type": "markdown",
   "metadata": {},
   "source": [
    "1. Write a Python program to create a lambda function that adds 15 to a given number passed in as an argument, also create a lambda function that multiplies argument x with argument y and print the result.\n"
   ]
  },
  {
   "cell_type": "code",
   "execution_count": 1,
   "metadata": {},
   "outputs": [
    {
     "name": "stdout",
     "output_type": "stream",
     "text": [
      "16\n",
      "12\n"
     ]
    }
   ],
   "source": [
    "f1 = lambda x: x+15\n",
    "print(f1(1))\n",
    "f2 = lambda x,y: x*y\n",
    "print(f2(3,4))"
   ]
  },
  {
   "cell_type": "markdown",
   "metadata": {},
   "source": [
    "2. Write a Python program to create a function that takes one argument, and that argument will be multiplied with an unknown given number.<br>\n",
    "Sample Output:<br>\n",
    "Double the number of 15 = 30<br>\n",
    "Triple the number of 15 = 45<br>\n",
    "Quadruple the number of 15 = 60<br>\n",
    "Quintuple the number 15 = 75"
   ]
  },
  {
   "cell_type": "code",
   "execution_count": 2,
   "metadata": {},
   "outputs": [
    {
     "name": "stdout",
     "output_type": "stream",
     "text": [
      "Double the number of 15 = 30\n",
      "Triple the number of 15 = 45\n",
      "Quadruple the number of 15 = 60\n",
      "Quintuple the number of 15 = 75\n"
     ]
    }
   ],
   "source": [
    "def func(n):\n",
    "    return lambda x: x * n\n",
    "\n",
    "result=func(2)\n",
    "print(\"Double the number of 15 =\", result(15))\n",
    "result=func(3)\n",
    "print(\"Triple the number of 15 =\", result(15))\n",
    "result=func(4)\n",
    "print(\"Quadruple the number of 15 =\", result(15))\n",
    "result=func(5)\n",
    "print(\"Quintuple the number of 15 =\", result(15))"
   ]
  },
  {
   "cell_type": "markdown",
   "metadata": {},
   "source": [
    "3. Write a Python program to sort a list of tuples using Lambda.<br>\n",
    "Original list of tuples:<br>\n",
    "[('English', 88), ('Science', 90), ('Maths', 97), ('Social sciences', 82)]<br>\n",
    "Sorting the List of Tuples:<br>\n",
    "[('Social sciences', 82), ('English', 88), ('Science', 90), ('Maths', 97)]"
   ]
  },
  {
   "cell_type": "code",
   "execution_count": 3,
   "metadata": {},
   "outputs": [
    {
     "name": "stdout",
     "output_type": "stream",
     "text": [
      "[('Social sciences', 82), ('English', 88), ('Science', 90), ('Maths', 97)]\n"
     ]
    }
   ],
   "source": [
    "l = [('English', 88), ('Science', 90), ('Maths', 97), ('Social sciences', 82)]\n",
    "sorted_l = sorted(l, key=lambda t: t[1])\n",
    "print(sorted_l)"
   ]
  },
  {
   "cell_type": "markdown",
   "metadata": {},
   "source": [
    "4. Write a Python program to sort a list of dictionaries using Lambda.<br>\n",
    "[{'make': 'Nokia', 'model': 216, 'color': 'Black'}, {'make': 'Mi Max', 'model': '2', 'color': 'Gold'}, {'make': 'Samsung', 'model': 7, 'color': 'Blue'}]<br>\n",
    "Sorting the List of dictionaries :<br>\n",
    "[{'make': 'Nokia', 'model': 216, 'color': 'Black'}, {'make': 'Samsung', 'model': 7, 'color': 'Blue'}, {'make': 'Mi Max', 'model': '2', 'color': 'Gold'}]<br>\n"
   ]
  },
  {
   "cell_type": "code",
   "execution_count": 4,
   "metadata": {},
   "outputs": [
    {
     "name": "stdout",
     "output_type": "stream",
     "text": [
      "[{'make': 'Nokia', 'model': 216, 'color': 'Black'}, {'make': 'Samsung', 'model': 7, 'color': 'Blue'}, {'make': 'Mi Max', 'model': '2', 'color': 'Gold'}]\n"
     ]
    }
   ],
   "source": [
    "Mobile_List = [{'make': 'Nokia', 'model': 216, 'color': 'Black'}, {'make': 'Mi Max', 'model': '2', 'color': 'Gold'}, {'make': 'Samsung', 'model': 7, 'color': 'Blue'}]\n",
    "\n",
    "Sorted_List = sorted(Mobile_List, key= lambda d: int(d['model']), reverse=True)\n",
    "print(Sorted_List)"
   ]
  },
  {
   "cell_type": "markdown",
   "metadata": {},
   "source": [
    "5- Write a Python program to filter a list of integers using Lambda.\n",
    "Original list of integers:<br>\n",
    "[1, 2, 3, 4, 5, 6, 7, 8, 9, 10]<br>\n",
    "Even numbers from the said list:<br>\n",
    "[2, 4, 6, 8, 10]<br>\n",
    "Odd numbers from the said list:<br>\n",
    "[1, 3, 5, 7, 9]<br>"
   ]
  },
  {
   "cell_type": "code",
   "execution_count": 5,
   "metadata": {},
   "outputs": [
    {
     "name": "stdout",
     "output_type": "stream",
     "text": [
      "[2, 4, 6, 8, 10]\n",
      "[1, 3, 5, 7, 9]\n"
     ]
    }
   ],
   "source": [
    "l = [1, 2, 3, 4, 5, 6, 7, 8, 9, 10]\n",
    "Even_List = list(filter(lambda i: i%2==0, l))\n",
    "print(Even_List)\n",
    "Odd_List = list(filter(lambda i: i%2!=0, l))\n",
    "print(Odd_List)"
   ]
  },
  {
   "cell_type": "markdown",
   "metadata": {},
   "source": [
    "6. Write a Python program to square and cube every number in a given list of integers using Lambda.<br>\n",
    "Original list of integers:<br>\n",
    "[1, 2, 3, 4, 5, 6, 7, 8, 9, 10]<br>"
   ]
  },
  {
   "cell_type": "code",
   "execution_count": 7,
   "metadata": {},
   "outputs": [
    {
     "name": "stdout",
     "output_type": "stream",
     "text": [
      "Square every number of the said list:\n",
      "[1, 4, 9, 16, 25, 36, 49, 64, 81, 100]\n",
      "Cube every number of the said list:\n",
      "[1, 8, 27, 64, 125, 216, 343, 512, 729, 1000]\n"
     ]
    }
   ],
   "source": [
    "original_list = [1, 2, 3, 4, 5, 6, 7, 8, 9, 10]\n",
    "square_list = list(map(lambda x: x*x, original_list))\n",
    "print(\"Square every number of the said list:\\n\"+str(square_list))\n",
    "cube_list = list(map(lambda x: x*x*x, original_list))\n",
    "print(\"Cube every number of the said list:\\n\"+str(cube_list))"
   ]
  },
  {
   "cell_type": "markdown",
   "metadata": {},
   "source": [
    "7. Write a Python program to find if a given string starts with a given character using Lambda."
   ]
  },
  {
   "cell_type": "code",
   "execution_count": 14,
   "metadata": {},
   "outputs": [
    {
     "name": "stdout",
     "output_type": "stream",
     "text": [
      "True\n",
      "False\n",
      "True\n"
     ]
    }
   ],
   "source": [
    "def string_check(s):\n",
    "    return lambda x: x[0]==s\n",
    "check = string_check('H')\n",
    "print(check('Hamza'))\n",
    "print(check('Jinnah'))\n",
    "#or as w3resource says (but less generalised)\n",
    "starts_with = lambda x: True if x[0]=='H' else False\n",
    "print(starts_with('Hamza'))"
   ]
  },
  {
   "cell_type": "markdown",
   "metadata": {},
   "source": [
    "8. Write a Python program to extract year, month, date and time using Lambda."
   ]
  },
  {
   "cell_type": "code",
   "execution_count": 88,
   "metadata": {},
   "outputs": [
    {
     "name": "stdout",
     "output_type": "stream",
     "text": [
      "<class 'datetime.datetime'>\n",
      "2021\n",
      "9\n",
      "25\n",
      "19:36:13.006645\n"
     ]
    }
   ],
   "source": [
    "import datetime\n",
    "now = datetime.datetime.now()\n",
    "print(type(now))\n",
    "year = lambda x:x.year\n",
    "month = lambda x:x.month\n",
    "day = lambda x:x.day\n",
    "t = lambda x: x.time()\n",
    "print(year(now))\n",
    "print(month(now))\n",
    "print(day(now))\n",
    "print(t(now))"
   ]
  },
  {
   "cell_type": "markdown",
   "metadata": {},
   "source": [
    "9. Write a Python program to check whether a given string is number or not using Lambda."
   ]
  },
  {
   "cell_type": "code",
   "execution_count": 78,
   "metadata": {},
   "outputs": [
    {
     "name": "stdout",
     "output_type": "stream",
     "text": [
      "True\n",
      "True\n",
      "False\n",
      "True\n",
      "False\n",
      "True\n"
     ]
    }
   ],
   "source": [
    "is_num = lambda x: x.replace('.','',1).isnumeric()\n",
    "print(is_num('10.1'))\n",
    "print(is_num('3235'))\n",
    "print(is_num('Yoo bro'))\n",
    "print(is_num('23'))\n",
    "print(is_num('sdf2'))\n",
    "print(is_num('111'))"
   ]
  },
  {
   "cell_type": "markdown",
   "metadata": {},
   "source": [
    "10. Write a Python program to create Fibonacci series upto n using Lambda.\n",
    "Fibonacci series upto 2:<br>\n",
    "[0, 1]<br>\n",
    "Fibonacci series upto 5:<br>\n",
    "[0, 1, 1, 2, 3]<br>\n",
    "Fibonacci series upto 6:<br>\n",
    "[0, 1, 1, 2, 3, 5]<br>\n",
    "Fibonacci series upto 9:<br>\n",
    "[0, 1, 1, 2, 3, 5, 8, 13, 21]<br>"
   ]
  },
  {
   "cell_type": "code",
   "execution_count": 89,
   "metadata": {},
   "outputs": [
    {
     "name": "stdout",
     "output_type": "stream",
     "text": [
      "[0, 1, 1, 2]\n"
     ]
    }
   ],
   "source": [
    "from functools import reduce\n",
    "#Don't understand yet, will get back to it\n",
    "#print(help(reduce))\n",
    "#x = [0]\n",
    "#print(x+[x[-1]+x[-2]])\n",
    "#print(list(range(2)))\n",
    "print(reduce(lambda x,_:x+[x[-1]+x[-2]], range(4-2), [0,1]))\n"
   ]
  },
  {
   "cell_type": "code",
   "execution_count": null,
   "metadata": {},
   "outputs": [],
   "source": []
  }
 ],
 "metadata": {
  "kernelspec": {
   "display_name": "Python 3",
   "language": "python",
   "name": "python3"
  },
  "language_info": {
   "codemirror_mode": {
    "name": "ipython",
    "version": 3
   },
   "file_extension": ".py",
   "mimetype": "text/x-python",
   "name": "python",
   "nbconvert_exporter": "python",
   "pygments_lexer": "ipython3",
   "version": "3.7.6"
  }
 },
 "nbformat": 4,
 "nbformat_minor": 4
}
